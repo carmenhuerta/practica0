{
 "cells": [
  {
   "cell_type": "code",
   "execution_count": 1,
   "id": "23181b3d-d6a3-4839-ab5d-c132d31707f8",
   "metadata": {},
   "outputs": [],
   "source": [
    "import pandas as pd"
   ]
  },
  {
   "cell_type": "code",
   "execution_count": 3,
   "id": "8ee1e240-b1a1-4c24-b565-b2228ea95a6d",
   "metadata": {},
   "outputs": [
    {
     "ename": "ModuleNotFoundError",
     "evalue": "No module named 'sweetviz'",
     "output_type": "error",
     "traceback": [
      "\u001b[1;31m---------------------------------------------------------------------------\u001b[0m",
      "\u001b[1;31mModuleNotFoundError\u001b[0m                       Traceback (most recent call last)",
      "Cell \u001b[1;32mIn[3], line 1\u001b[0m\n\u001b[1;32m----> 1\u001b[0m \u001b[38;5;28;01mimport\u001b[39;00m \u001b[38;5;21;01msweetviz\u001b[39;00m \u001b[38;5;28;01mas\u001b[39;00m \u001b[38;5;21;01msv\u001b[39;00m\n\u001b[0;32m      2\u001b[0m \u001b[38;5;28;01mimport\u001b[39;00m \u001b[38;5;21;01mos\u001b[39;00m\n\u001b[0;32m      3\u001b[0m \u001b[38;5;28;01mfrom\u001b[39;00m \u001b[38;5;21;01mdatetime\u001b[39;00m \u001b[38;5;28;01mimport\u001b[39;00m datetime\n",
      "\u001b[1;31mModuleNotFoundError\u001b[0m: No module named 'sweetviz'"
     ]
    }
   ],
   "source": [
    "import sweetviz as sv\n",
    "import os\n",
    "from datetime import datetime\n",
    "\n",
    "# 1. Cargar el dataset completo\n",
    "df = pd.read_csv(\n",
    "    '/Users/huert/OneDrive/Desktop/APRENDIZAJE/practica0/data/Loan_test_set.csv',  # Ruta relativa a tu archivo\n",
    "    sep=\",\",\n",
    "    low_memory=False,\n",
    "    na_values=[\"NaN\", \"nan\", \"\", \" \"]\n",
    ")\n",
    "\n",
    "# 2. Limpiar los nombres de las columnas\n",
    "df.columns = df.columns.str.strip().str.lower()\n",
    "\n",
    "# 3. Verificar los tipos de datos en cada columna\n",
    "print(\"Tipos de datos en cada columna:\")\n",
    "print(df.dtypes)\n",
    "\n",
    "# 4. Rellenar valores nulos solo en las columnas numéricas con la media\n",
    "numeric_columns = df.select_dtypes(include='number').columns\n",
    "df[numeric_columns] = df[numeric_columns].fillna(df[numeric_columns].mean())\n",
    "\n",
    "# 5. Generar el reporte de Sweetviz\n",
    "report = sv.analyze(df, pairwise_analysis='on')  # Generar análisis por pares\n",
    "\n",
    "# 6. Crear un nombre de archivo con fecha y hora\n",
    "timestamp = datetime.now().strftime(\"%Y%m%d_%H%M%S\")\n",
    "report_filename = f'Loan_Analysis_Report_{timestamp}.html'\n",
    "report_path = os.path.join(os.path.expanduser('~'), 'Downloads', report_filename)\n",
    "\n",
    "# 7. Guardar el reporte en la carpeta de Descargas y abrirlo en el navegador\n",
    "report.show_html(report_path, open_browser=True)\n",
    "\n",
    "print(f\"\\nReporte guardado exitosamente en: {report_path}\")\n"
   ]
  },
  {
   "cell_type": "code",
   "execution_count": null,
   "id": "f8e695bb-5da9-4459-8a8e-f47f62c8a1b9",
   "metadata": {},
   "outputs": [],
   "source": []
  }
 ],
 "metadata": {
  "kernelspec": {
   "display_name": "CARMEN",
   "language": "python",
   "name": "practica0"
  },
  "language_info": {
   "codemirror_mode": {
    "name": "ipython",
    "version": 3
   },
   "file_extension": ".py",
   "mimetype": "text/x-python",
   "name": "python",
   "nbconvert_exporter": "python",
   "pygments_lexer": "ipython3",
   "version": "3.12.7"
  }
 },
 "nbformat": 4,
 "nbformat_minor": 5
}
