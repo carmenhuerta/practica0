{
 "cells": [
  {
   "cell_type": "code",
   "execution_count": 3,
   "id": "90447cf3-aea9-4e02-8d1a-1e8b727add57",
   "metadata": {},
   "outputs": [
    {
     "name": "stdout",
     "output_type": "stream",
     "text": [
      "Tipos de datos en cada columna:\n",
      "notes offered by prospectus (https://www.lendingclub.com/info/prospectus.action)    object\n",
      "dtype: object\n"
     ]
    },
    {
     "data": {
      "application/vnd.jupyter.widget-view+json": {
       "model_id": "3191040c1bba4608b9838c9030f94de6",
       "version_major": 2,
       "version_minor": 0
      },
      "text/plain": [
       "                                             |          | [  0%]   00:00 -> (? left)"
      ]
     },
     "metadata": {},
     "output_type": "display_data"
    },
    {
     "name": "stdout",
     "output_type": "stream",
     "text": [
      "Report C:\\Users\\huert\\Downloads\\Loan_Analysis_Report_20241022_181454.html was generated! NOTEBOOK/COLAB USERS: the web browser MAY not pop up, regardless, the report IS saved in your notebook/colab files.\n",
      "\n",
      "Reporte guardado exitosamente en: C:\\Users\\huert\\Downloads\\Loan_Analysis_Report_20241022_181454.html\n"
     ]
    }
   ],
   "source": [
    "import pandas as pd\n",
    "import sweetviz as sv\n",
    "import os\n",
    "from datetime import datetime\n",
    "\n",
    "# 1. Cargar el dataset completo\n",
    "df = pd.read_csv(\n",
    "    \"/Users/huert/Loan_test_set.csv\",  # Ruta relativa a tu archivo\n",
    "    sep=\",\",\n",
    "    low_memory=False,\n",
    "    na_values=[\"NaN\", \"nan\", \"\", \" \"]\n",
    ")\n",
    "\n",
    "# 2. Limpiar los nombres de las columnas\n",
    "df.columns = df.columns.str.strip().str.lower()\n",
    "\n",
    "# 3. Verificar los tipos de datos en cada columna\n",
    "print(\"Tipos de datos en cada columna:\")\n",
    "print(df.dtypes)\n",
    "\n",
    "# 4. Rellenar valores nulos solo en las columnas numéricas con la media\n",
    "numeric_columns = df.select_dtypes(include='number').columns\n",
    "df[numeric_columns] = df[numeric_columns].fillna(df[numeric_columns].mean())\n",
    "\n",
    "# 5. Generar el reporte de Sweetviz\n",
    "report = sv.analyze(df, pairwise_analysis='on')  # Generar análisis por pares\n",
    "\n",
    "# 6. Crear un nombre de archivo con fecha y hora\n",
    "timestamp = datetime.now().strftime(\"%Y%m%d_%H%M%S\")\n",
    "report_filename = f'Loan_Analysis_Report_{timestamp}.html'\n",
    "report_path = os.path.join(os.path.expanduser('~'), 'Downloads', report_filename)\n",
    "\n",
    "# 7. Guardar el reporte en la carpeta de Descargas y abrirlo en el navegador\n",
    "report.show_html(report_path, open_browser=True)\n",
    "\n",
    "print(f\"\\nReporte guardado exitosamente en: {report_path}\")\n"
   ]
  },
  {
   "cell_type": "code",
   "execution_count": null,
   "id": "90b8897e-0c65-4821-afe1-1f3e02167336",
   "metadata": {},
   "outputs": [],
   "source": []
  }
 ],
 "metadata": {
  "kernelspec": {
   "display_name": "CARMEN",
   "language": "python",
   "name": "practica0"
  },
  "language_info": {
   "codemirror_mode": {
    "name": "ipython",
    "version": 3
   },
   "file_extension": ".py",
   "mimetype": "text/x-python",
   "name": "python",
   "nbconvert_exporter": "python",
   "pygments_lexer": "ipython3",
   "version": "3.12.7"
  }
 },
 "nbformat": 4,
 "nbformat_minor": 5
}
